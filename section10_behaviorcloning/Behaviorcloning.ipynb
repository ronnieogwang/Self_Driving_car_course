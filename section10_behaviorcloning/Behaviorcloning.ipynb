{
  "nbformat": 4,
  "nbformat_minor": 0,
  "metadata": {
    "colab": {
      "name": "Behaviorcloning.ipynb",
      "provenance": [],
      "authorship_tag": "ABX9TyNuatdGWSbUEzQkS5DgLtys",
      "include_colab_link": true
    },
    "kernelspec": {
      "name": "python3",
      "display_name": "Python 3"
    },
    "accelerator": "GPU"
  },
  "cells": [
    {
      "cell_type": "markdown",
      "metadata": {
        "id": "view-in-github",
        "colab_type": "text"
      },
      "source": [
        "<a href=\"https://colab.research.google.com/github/ronnieogwang/Self_Driving_car_course/blob/master/section10_behaviorcloning/Behaviorcloning.ipynb\" target=\"_parent\"><img src=\"https://colab.research.google.com/assets/colab-badge.svg\" alt=\"Open In Colab\"/></a>"
      ]
    },
    {
      "cell_type": "code",
      "metadata": {
        "id": "kD5W1zhasrME",
        "colab_type": "code",
        "colab": {}
      },
      "source": [
        "!git clone https://github.com/ronnieogwang/Self_Driving_car_course.git\n",
        "\n"
      ],
      "execution_count": 0,
      "outputs": []
    },
    {
      "cell_type": "code",
      "metadata": {
        "id": "NKquYmbpuQk8",
        "colab_type": "code",
        "outputId": "baa3ce1c-5993-4f26-9c7d-931f6140299f",
        "colab": {
          "base_uri": "https://localhost:8080/",
          "height": 34
        }
      },
      "source": [
        "!ls\n"
      ],
      "execution_count": 28,
      "outputs": [
        {
          "output_type": "stream",
          "text": [
            "driving_log.csv  IMG  Self_Driving_car_course\n"
          ],
          "name": "stdout"
        }
      ]
    },
    {
      "cell_type": "code",
      "metadata": {
        "id": "ZVH50Yswuvsv",
        "colab_type": "code",
        "outputId": "8f1d130f-d2f4-433b-c973-c339a65e2824",
        "colab": {
          "base_uri": "https://localhost:8080/",
          "height": 34
        }
      },
      "source": [
        "!pwd"
      ],
      "execution_count": 29,
      "outputs": [
        {
          "output_type": "stream",
          "text": [
            "/content/Self_Driving_car_course/section10_behaviorcloning/Data\n"
          ],
          "name": "stdout"
        }
      ]
    },
    {
      "cell_type": "code",
      "metadata": {
        "id": "LRbsfD0Ruywf",
        "colab_type": "code",
        "outputId": "a1302c30-6955-47f8-cb34-934ccf148dc4",
        "colab": {
          "base_uri": "https://localhost:8080/",
          "height": 34
        }
      },
      "source": [
        "!ls\n"
      ],
      "execution_count": 30,
      "outputs": [
        {
          "output_type": "stream",
          "text": [
            "driving_log.csv  IMG  Self_Driving_car_course\n"
          ],
          "name": "stdout"
        }
      ]
    },
    {
      "cell_type": "code",
      "metadata": {
        "id": "EYUmGOBuu2ol",
        "colab_type": "code",
        "outputId": "84468d5b-0f19-4670-ca27-6ce046ce0330",
        "colab": {
          "base_uri": "https://localhost:8080/",
          "height": 34
        }
      },
      "source": [
        "cd Self_Driving_car_course\n"
      ],
      "execution_count": 31,
      "outputs": [
        {
          "output_type": "stream",
          "text": [
            "/content/Self_Driving_car_course/section10_behaviorcloning/Data/Self_Driving_car_course\n"
          ],
          "name": "stdout"
        }
      ]
    },
    {
      "cell_type": "code",
      "metadata": {
        "id": "uD-LAx1vu-ib",
        "colab_type": "code",
        "outputId": "00349a43-7f26-40dc-d6d0-8366f7f39310",
        "colab": {
          "base_uri": "https://localhost:8080/",
          "height": 51
        }
      },
      "source": [
        "!ls"
      ],
      "execution_count": 32,
      "outputs": [
        {
          "output_type": "stream",
          "text": [
            "MNIST_DNN.ipynb  section10_behaviorcloning  Section6_Keras   section8_MNIST\n",
            "README.md\t section5_Finding_lanes     section7_deepNN  section9_roadsigns\n"
          ],
          "name": "stdout"
        }
      ]
    },
    {
      "cell_type": "code",
      "metadata": {
        "id": "1SK8uuPlvAgY",
        "colab_type": "code",
        "outputId": "856bd116-ee00-4e5c-d7f6-f60839cb968c",
        "colab": {
          "base_uri": "https://localhost:8080/",
          "height": 34
        }
      },
      "source": [
        "cd section10_behaviorcloning/Data"
      ],
      "execution_count": 33,
      "outputs": [
        {
          "output_type": "stream",
          "text": [
            "/content/Self_Driving_car_course/section10_behaviorcloning/Data/Self_Driving_car_course/section10_behaviorcloning/Data\n"
          ],
          "name": "stdout"
        }
      ]
    },
    {
      "cell_type": "code",
      "metadata": {
        "id": "900p8PDXvGM9",
        "colab_type": "code",
        "outputId": "b909667b-6215-4192-b285-b3a2d60a68cb",
        "colab": {
          "base_uri": "https://localhost:8080/",
          "height": 34
        }
      },
      "source": [
        "!ls"
      ],
      "execution_count": 34,
      "outputs": [
        {
          "output_type": "stream",
          "text": [
            "driving_log.csv  IMG\n"
          ],
          "name": "stdout"
        }
      ]
    },
    {
      "cell_type": "code",
      "metadata": {
        "id": "v23b9aGjvIO0",
        "colab_type": "code",
        "colab": {}
      },
      "source": [
        "import os\n",
        "import numpy as np\n",
        "import matplotlib.pyplot as plt\n",
        "import matplotlib.image as mpimg\n",
        "import keras\n",
        "from keras.models import Sequential\n",
        "from keras.optimizers import Adam\n",
        "from keras.layers import Convolution2D, MaxPooling2D, Dropout, Flatten, Dense\n",
        "from sklearn.utils import shuffle\n",
        "from sklearn.model_selection import train_test_split\n",
        "#from imgaug import augmenters as iaa\n",
        "import cv2\n",
        "import pandas as pd\n",
        "import ntpath\n",
        "import random\n"
      ],
      "execution_count": 0,
      "outputs": []
    },
    {
      "cell_type": "code",
      "metadata": {
        "id": "eDmxO-gow6lk",
        "colab_type": "code",
        "outputId": "9a7d5fef-b0b1-402d-b55f-4b7dd2410b44",
        "colab": {
          "base_uri": "https://localhost:8080/",
          "height": 309
        }
      },
      "source": [
        "#get data\n",
        "columns = ['center', 'left', 'right', 'steering', 'throttle', 'reverse','speed']\n",
        "pd.set_option('display.max_colwidth', -1)  \n",
        "data = pd.read_csv('driving_log.csv', names = columns)\n",
        "data.head()"
      ],
      "execution_count": 36,
      "outputs": [
        {
          "output_type": "execute_result",
          "data": {
            "text/html": [
              "<div>\n",
              "<style scoped>\n",
              "    .dataframe tbody tr th:only-of-type {\n",
              "        vertical-align: middle;\n",
              "    }\n",
              "\n",
              "    .dataframe tbody tr th {\n",
              "        vertical-align: top;\n",
              "    }\n",
              "\n",
              "    .dataframe thead th {\n",
              "        text-align: right;\n",
              "    }\n",
              "</style>\n",
              "<table border=\"1\" class=\"dataframe\">\n",
              "  <thead>\n",
              "    <tr style=\"text-align: right;\">\n",
              "      <th></th>\n",
              "      <th>center</th>\n",
              "      <th>left</th>\n",
              "      <th>right</th>\n",
              "      <th>steering</th>\n",
              "      <th>throttle</th>\n",
              "      <th>reverse</th>\n",
              "      <th>speed</th>\n",
              "    </tr>\n",
              "  </thead>\n",
              "  <tbody>\n",
              "    <tr>\n",
              "      <th>0</th>\n",
              "      <td>D:\\Machine_Learning\\Complete self_drving car course\\Self_Driving_car_course\\section10_behaviorcloning\\Data\\IMG\\center_2020_01_29_16_28_05_516.jpg</td>\n",
              "      <td>D:\\Machine_Learning\\Complete self_drving car course\\Self_Driving_car_course\\section10_behaviorcloning\\Data\\IMG\\left_2020_01_29_16_28_05_516.jpg</td>\n",
              "      <td>D:\\Machine_Learning\\Complete self_drving car course\\Self_Driving_car_course\\section10_behaviorcloning\\Data\\IMG\\right_2020_01_29_16_28_05_516.jpg</td>\n",
              "      <td>0.0</td>\n",
              "      <td>0.0</td>\n",
              "      <td>0</td>\n",
              "      <td>0.000080</td>\n",
              "    </tr>\n",
              "    <tr>\n",
              "      <th>1</th>\n",
              "      <td>D:\\Machine_Learning\\Complete self_drving car course\\Self_Driving_car_course\\section10_behaviorcloning\\Data\\IMG\\center_2020_01_29_16_28_05_621.jpg</td>\n",
              "      <td>D:\\Machine_Learning\\Complete self_drving car course\\Self_Driving_car_course\\section10_behaviorcloning\\Data\\IMG\\left_2020_01_29_16_28_05_621.jpg</td>\n",
              "      <td>D:\\Machine_Learning\\Complete self_drving car course\\Self_Driving_car_course\\section10_behaviorcloning\\Data\\IMG\\right_2020_01_29_16_28_05_621.jpg</td>\n",
              "      <td>0.0</td>\n",
              "      <td>0.0</td>\n",
              "      <td>0</td>\n",
              "      <td>0.000078</td>\n",
              "    </tr>\n",
              "    <tr>\n",
              "      <th>2</th>\n",
              "      <td>D:\\Machine_Learning\\Complete self_drving car course\\Self_Driving_car_course\\section10_behaviorcloning\\Data\\IMG\\center_2020_01_29_16_28_05_723.jpg</td>\n",
              "      <td>D:\\Machine_Learning\\Complete self_drving car course\\Self_Driving_car_course\\section10_behaviorcloning\\Data\\IMG\\left_2020_01_29_16_28_05_723.jpg</td>\n",
              "      <td>D:\\Machine_Learning\\Complete self_drving car course\\Self_Driving_car_course\\section10_behaviorcloning\\Data\\IMG\\right_2020_01_29_16_28_05_723.jpg</td>\n",
              "      <td>0.0</td>\n",
              "      <td>0.0</td>\n",
              "      <td>0</td>\n",
              "      <td>0.000078</td>\n",
              "    </tr>\n",
              "    <tr>\n",
              "      <th>3</th>\n",
              "      <td>D:\\Machine_Learning\\Complete self_drving car course\\Self_Driving_car_course\\section10_behaviorcloning\\Data\\IMG\\center_2020_01_29_16_28_05_828.jpg</td>\n",
              "      <td>D:\\Machine_Learning\\Complete self_drving car course\\Self_Driving_car_course\\section10_behaviorcloning\\Data\\IMG\\left_2020_01_29_16_28_05_828.jpg</td>\n",
              "      <td>D:\\Machine_Learning\\Complete self_drving car course\\Self_Driving_car_course\\section10_behaviorcloning\\Data\\IMG\\right_2020_01_29_16_28_05_828.jpg</td>\n",
              "      <td>0.0</td>\n",
              "      <td>0.0</td>\n",
              "      <td>0</td>\n",
              "      <td>0.000079</td>\n",
              "    </tr>\n",
              "    <tr>\n",
              "      <th>4</th>\n",
              "      <td>D:\\Machine_Learning\\Complete self_drving car course\\Self_Driving_car_course\\section10_behaviorcloning\\Data\\IMG\\center_2020_01_29_16_28_05_933.jpg</td>\n",
              "      <td>D:\\Machine_Learning\\Complete self_drving car course\\Self_Driving_car_course\\section10_behaviorcloning\\Data\\IMG\\left_2020_01_29_16_28_05_933.jpg</td>\n",
              "      <td>D:\\Machine_Learning\\Complete self_drving car course\\Self_Driving_car_course\\section10_behaviorcloning\\Data\\IMG\\right_2020_01_29_16_28_05_933.jpg</td>\n",
              "      <td>0.0</td>\n",
              "      <td>0.0</td>\n",
              "      <td>0</td>\n",
              "      <td>0.000080</td>\n",
              "    </tr>\n",
              "  </tbody>\n",
              "</table>\n",
              "</div>"
            ],
            "text/plain": [
              "                                                                                                                                              center  ...     speed\n",
              "0  D:\\Machine_Learning\\Complete self_drving car course\\Self_Driving_car_course\\section10_behaviorcloning\\Data\\IMG\\center_2020_01_29_16_28_05_516.jpg  ...  0.000080\n",
              "1  D:\\Machine_Learning\\Complete self_drving car course\\Self_Driving_car_course\\section10_behaviorcloning\\Data\\IMG\\center_2020_01_29_16_28_05_621.jpg  ...  0.000078\n",
              "2  D:\\Machine_Learning\\Complete self_drving car course\\Self_Driving_car_course\\section10_behaviorcloning\\Data\\IMG\\center_2020_01_29_16_28_05_723.jpg  ...  0.000078\n",
              "3  D:\\Machine_Learning\\Complete self_drving car course\\Self_Driving_car_course\\section10_behaviorcloning\\Data\\IMG\\center_2020_01_29_16_28_05_828.jpg  ...  0.000079\n",
              "4  D:\\Machine_Learning\\Complete self_drving car course\\Self_Driving_car_course\\section10_behaviorcloning\\Data\\IMG\\center_2020_01_29_16_28_05_933.jpg  ...  0.000080\n",
              "\n",
              "[5 rows x 7 columns]"
            ]
          },
          "metadata": {
            "tags": []
          },
          "execution_count": 36
        }
      ]
    },
    {
      "cell_type": "code",
      "metadata": {
        "id": "pw6oXcrh0LHn",
        "colab_type": "code",
        "outputId": "cfb31426-4fac-4d0f-eaaa-d2c3524e74a4",
        "colab": {
          "base_uri": "https://localhost:8080/",
          "height": 204
        }
      },
      "source": [
        "#to clear the head from the file names\n",
        "def path_leaf(path):\n",
        "  head, tail = ntpath.split(path)\n",
        "  return tail\n",
        "\n",
        "data['center'] = data['center'].apply(path_leaf)\n",
        "data['left'] = data['left'].apply(path_leaf)\n",
        "data['right'] = data['right'].apply(path_leaf)\n",
        "data.head()\n"
      ],
      "execution_count": 37,
      "outputs": [
        {
          "output_type": "execute_result",
          "data": {
            "text/html": [
              "<div>\n",
              "<style scoped>\n",
              "    .dataframe tbody tr th:only-of-type {\n",
              "        vertical-align: middle;\n",
              "    }\n",
              "\n",
              "    .dataframe tbody tr th {\n",
              "        vertical-align: top;\n",
              "    }\n",
              "\n",
              "    .dataframe thead th {\n",
              "        text-align: right;\n",
              "    }\n",
              "</style>\n",
              "<table border=\"1\" class=\"dataframe\">\n",
              "  <thead>\n",
              "    <tr style=\"text-align: right;\">\n",
              "      <th></th>\n",
              "      <th>center</th>\n",
              "      <th>left</th>\n",
              "      <th>right</th>\n",
              "      <th>steering</th>\n",
              "      <th>throttle</th>\n",
              "      <th>reverse</th>\n",
              "      <th>speed</th>\n",
              "    </tr>\n",
              "  </thead>\n",
              "  <tbody>\n",
              "    <tr>\n",
              "      <th>0</th>\n",
              "      <td>center_2020_01_29_16_28_05_516.jpg</td>\n",
              "      <td>left_2020_01_29_16_28_05_516.jpg</td>\n",
              "      <td>right_2020_01_29_16_28_05_516.jpg</td>\n",
              "      <td>0.0</td>\n",
              "      <td>0.0</td>\n",
              "      <td>0</td>\n",
              "      <td>0.000080</td>\n",
              "    </tr>\n",
              "    <tr>\n",
              "      <th>1</th>\n",
              "      <td>center_2020_01_29_16_28_05_621.jpg</td>\n",
              "      <td>left_2020_01_29_16_28_05_621.jpg</td>\n",
              "      <td>right_2020_01_29_16_28_05_621.jpg</td>\n",
              "      <td>0.0</td>\n",
              "      <td>0.0</td>\n",
              "      <td>0</td>\n",
              "      <td>0.000078</td>\n",
              "    </tr>\n",
              "    <tr>\n",
              "      <th>2</th>\n",
              "      <td>center_2020_01_29_16_28_05_723.jpg</td>\n",
              "      <td>left_2020_01_29_16_28_05_723.jpg</td>\n",
              "      <td>right_2020_01_29_16_28_05_723.jpg</td>\n",
              "      <td>0.0</td>\n",
              "      <td>0.0</td>\n",
              "      <td>0</td>\n",
              "      <td>0.000078</td>\n",
              "    </tr>\n",
              "    <tr>\n",
              "      <th>3</th>\n",
              "      <td>center_2020_01_29_16_28_05_828.jpg</td>\n",
              "      <td>left_2020_01_29_16_28_05_828.jpg</td>\n",
              "      <td>right_2020_01_29_16_28_05_828.jpg</td>\n",
              "      <td>0.0</td>\n",
              "      <td>0.0</td>\n",
              "      <td>0</td>\n",
              "      <td>0.000079</td>\n",
              "    </tr>\n",
              "    <tr>\n",
              "      <th>4</th>\n",
              "      <td>center_2020_01_29_16_28_05_933.jpg</td>\n",
              "      <td>left_2020_01_29_16_28_05_933.jpg</td>\n",
              "      <td>right_2020_01_29_16_28_05_933.jpg</td>\n",
              "      <td>0.0</td>\n",
              "      <td>0.0</td>\n",
              "      <td>0</td>\n",
              "      <td>0.000080</td>\n",
              "    </tr>\n",
              "  </tbody>\n",
              "</table>\n",
              "</div>"
            ],
            "text/plain": [
              "                               center  ...     speed\n",
              "0  center_2020_01_29_16_28_05_516.jpg  ...  0.000080\n",
              "1  center_2020_01_29_16_28_05_621.jpg  ...  0.000078\n",
              "2  center_2020_01_29_16_28_05_723.jpg  ...  0.000078\n",
              "3  center_2020_01_29_16_28_05_828.jpg  ...  0.000079\n",
              "4  center_2020_01_29_16_28_05_933.jpg  ...  0.000080\n",
              "\n",
              "[5 rows x 7 columns]"
            ]
          },
          "metadata": {
            "tags": []
          },
          "execution_count": 37
        }
      ]
    },
    {
      "cell_type": "code",
      "metadata": {
        "id": "3xmlXa871KKe",
        "colab_type": "code",
        "outputId": "da75fda1-ab9d-4ee6-c918-5755d5d3bf25",
        "colab": {
          "base_uri": "https://localhost:8080/",
          "height": 316
        }
      },
      "source": [
        "#visualize the steering angle\n",
        "num_of_bins = 25  #number of classes/ranges of the histogram\n",
        "samples_per_bin = 200\n",
        "hist, bins = np.histogram(data['steering'], num_of_bins)\n",
        "center = (bins[:-1] + bins[1:]) * 0.5\n",
        "plt.bar(center, hist, width = 0.05)\n",
        "print(center)"
      ],
      "execution_count": 38,
      "outputs": [
        {
          "output_type": "stream",
          "text": [
            "[-0.96 -0.88 -0.8  -0.72 -0.64 -0.56 -0.48 -0.4  -0.32 -0.24 -0.16 -0.08\n",
            "  0.    0.08  0.16  0.24  0.32  0.4   0.48  0.56  0.64  0.72  0.8   0.88\n",
            "  0.96]\n"
          ],
          "name": "stdout"
        },
        {
          "output_type": "display_data",
          "data": {
            "image/png": "[encoded data removed]",
            "text/plain": [
              "<Figure size 432x288 with 1 Axes>"
            ]
          },
          "metadata": {
            "tags": []
          }
        }
      ]
    },
    {
      "cell_type": "code",
      "metadata": {
        "id": "czShF7RVSJhI",
        "colab_type": "code",
        "outputId": "402003ff-c169-42c6-fb1f-f031cc138a76",
        "colab": {
          "base_uri": "https://localhost:8080/",
          "height": 68
        }
      },
      "source": [
        "#remove excess 0 steering angle images\n",
        "print('total data:', len(data))\n",
        "remove_list = []\n",
        "for j in range(num_of_bins):\n",
        "  list_ = []\n",
        "  for i in range(len(data['steering'])):\n",
        "    if data['steering'][i] >= bins[j] and data['steering'][i] <= bins[j+1]:\n",
        "      list_.append(i)\n",
        "  list_ = shuffle(list_)\n",
        "  list_ = list_[samples_per_bin:]\n",
        "  remove_list.extend(list_)\n",
        " \n",
        "print('removed:', len(remove_list))\n",
        "data.drop(data.index[remove_list], inplace=True)\n",
        "print('remaining:', len(data))"
      ],
      "execution_count": 39,
      "outputs": [
        {
          "output_type": "stream",
          "text": [
            "total data: 5147\n",
            "removed: 3773\n",
            "remaining: 1374\n"
          ],
          "name": "stdout"
        }
      ]
    },
    {
      "cell_type": "code",
      "metadata": {
        "id": "0etmV7bVSK5S",
        "colab_type": "code",
        "outputId": "430fb126-ed2a-4aca-c0ad-e60ab40a861f",
        "colab": {
          "base_uri": "https://localhost:8080/",
          "height": 153
        }
      },
      "source": [
        "#extract data\n",
        "print(data.iloc[1])\n",
        "datadir = 'IMG'\n",
        "def load_img_steering(datadir, df):\n",
        "  image_path = []\n",
        "  steering = []\n",
        "  for i in range(len(data)):\n",
        "    indexed_data = data.iloc[i]\n",
        "    center, left, right = indexed_data[0], indexed_data[1], indexed_data[2]\n",
        "    image_path.append(os.path.join(datadir, center.strip()))\n",
        "    steering.append(float(indexed_data[3]))\n",
        "  image_paths = np.asarray(image_path)\n",
        "  steerings = np.asarray(steering)\n",
        "  return image_paths, steerings\n",
        " \n",
        "image_paths, steerings = load_img_steering(datadir , data)\n"
      ],
      "execution_count": 40,
      "outputs": [
        {
          "output_type": "stream",
          "text": [
            "center      center_2020_01_29_16_28_47_209.jpg\n",
            "left        left_2020_01_29_16_28_47_209.jpg  \n",
            "right       right_2020_01_29_16_28_47_209.jpg \n",
            "steering    0                                 \n",
            "throttle    0.487949                          \n",
            "reverse     0                                 \n",
            "speed       2.36403                           \n",
            "Name: 57, dtype: object\n"
          ],
          "name": "stdout"
        }
      ]
    },
    {
      "cell_type": "code",
      "metadata": {
        "id": "B5X_RPndSLCv",
        "colab_type": "code",
        "outputId": "f375baef-664e-493b-f075-e9421bbccaec",
        "colab": {
          "base_uri": "https://localhost:8080/",
          "height": 51
        }
      },
      "source": [
        "#split data into training and test sets\n",
        "X_train, X_val, y_train, y_val = train_test_split(image_paths, steerings, test_size=0.2, random_state=6)\n",
        "print('Training Samples: {}\\nValidation Samples: {}'.format(len(X_train), len(X_val)))\n"
      ],
      "execution_count": 41,
      "outputs": [
        {
          "output_type": "stream",
          "text": [
            "Training Samples: 1099\n",
            "Validation Samples: 275\n"
          ],
          "name": "stdout"
        }
      ]
    },
    {
      "cell_type": "code",
      "metadata": {
        "id": "06QWjE6uSLOg",
        "colab_type": "code",
        "outputId": "6326e69b-aced-4ee5-cae2-23d653606129",
        "colab": {
          "base_uri": "https://localhost:8080/",
          "height": 298
        }
      },
      "source": [
        "fig, axes = plt.subplots(1, 2, figsize=(12, 4))\n",
        "axes[0].hist(y_train, bins=num_of_bins, width=0.05, color='blue')\n",
        "axes[0].set_title('Training set')\n",
        "axes[1].hist(y_val, bins=num_of_bins, width=0.05, color='red')\n",
        "axes[1].set_title('Validation set')\n"
      ],
      "execution_count": 42,
      "outputs": [
        {
          "output_type": "execute_result",
          "data": {
            "text/plain": [
              "Text(0.5, 1.0, 'Validation set')"
            ]
          },
          "metadata": {
            "tags": []
          },
          "execution_count": 42
        },
        {
          "output_type": "display_data",
          "data": {
            "image/png": "[encoded data removed]",
            "text/plain": [
              "<Figure size 864x288 with 2 Axes>"
            ]
          },
          "metadata": {
            "tags": []
          }
        }
      ]
    },
    {
      "cell_type": "code",
      "metadata": {
        "id": "44wdRfsTT0uZ",
        "colab_type": "code",
        "colab": {}
      },
      "source": [
        "#data preprocessing\n",
        "def img_preprocess(img):\n",
        "    img = mpimg.imread(img)\n",
        "    img = img[60:135, : , :]\n",
        "    img = cv2.cvtColor(img, cv2.COLOR_RGB2YUV)\n",
        "    img = cv2.GaussianBlur(img,  (3, 3), 0)\n",
        "    img = cv2.resize(img, (200, 66))\n",
        "    img = img/255\n",
        "    return img\n",
        "image = image_paths[100]\n",
        "original_image = mpimg.imread(image)\n",
        "preprocessed_image = img_preprocess(image)"
      ],
      "execution_count": 0,
      "outputs": []
    },
    {
      "cell_type": "code",
      "metadata": {
        "id": "1UmM4yU_T09H",
        "colab_type": "code",
        "outputId": "b3331f76-f5df-44d7-8da7-940af0ef0a2a",
        "colab": {
          "base_uri": "https://localhost:8080/",
          "height": 201
        }
      },
      "source": [
        "fig, axs = plt.subplots(1, 2, figsize=(8, 4))\n",
        "fig.tight_layout()\n",
        "axs[0].imshow(original_image)\n",
        "axs[0].set_title('Original Image')\n",
        "axs[1].imshow(preprocessed_image)\n",
        "axs[1].set_title('Preprocessed Image')"
      ],
      "execution_count": 44,
      "outputs": [
        {
          "output_type": "execute_result",
          "data": {
            "text/plain": [
              "Text(0.5, 1, 'Preprocessed Image')"
            ]
          },
          "metadata": {
            "tags": []
          },
          "execution_count": 44
        },
        {
          "output_type": "display_data",
          "data": {
            "image/png": "[encoded data removed]",
            "text/plain": [
              "<Figure size 576x288 with 2 Axes>"
            ]
          },
          "metadata": {
            "tags": []
          }
        }
      ]
    },
    {
      "cell_type": "code",
      "metadata": {
        "id": "ZIDtxSzdZO0-",
        "colab_type": "code",
        "colab": {}
      },
      "source": [
        "X_train = np.array(list(map(img_preprocess, X_train)))\n",
        "X_val = np.array(list(map(img_preprocess, X_val)))"
      ],
      "execution_count": 0,
      "outputs": []
    },
    {
      "cell_type": "markdown",
      "metadata": {
        "id": "dYTsQrBifnJi",
        "colab_type": "text"
      },
      "source": [
        "# We change the activatiion function fro relu to elu to avoid the dying gradient condition that occurs with relu for negative values. This is seen if the loss is not decreasing"
      ]
    },
    {
      "cell_type": "code",
      "metadata": {
        "id": "dLAwNaYFT1MF",
        "colab_type": "code",
        "colab": {
          "base_uri": "https://localhost:8080/",
          "height": 836
        },
        "outputId": "9c7c1e57-b131-4cfb-e031-862f505cbd78"
      },
      "source": [
        "def nvidia_model():\n",
        "    model = Sequential()\n",
        "    model.add(Convolution2D(24, 5, 5, subsample = (2,2), input_shape = (66, 200, 3), activation = 'elu'))\n",
        "    model.add(Convolution2D(36, 5, 5, subsample=(2, 2), activation='elu'))\n",
        "    model.add(Convolution2D(48, 5, 5, subsample=(2, 2), activation='elu'))\n",
        "    model.add(Convolution2D(64, 3, 3, activation='elu'))\n",
        "    model.add(Convolution2D(64, 3, 3, activation='elu'))\n",
        "    model.add(Dropout(0.5))\n",
        "    \n",
        "    model.add(Flatten())\n",
        "    model.add(Dense(100, activation = 'elu'))\n",
        "    model.add(Dropout(0.5))\n",
        "    \n",
        "    model.add(Dense(50, activation = 'elu'))\n",
        "    model.add(Dropout(0.5))\n",
        "\n",
        "    model.add(Dense(10, activation = 'elu'))\n",
        "    model.add(Dropout(0.5))\n",
        "    \n",
        "    model.add(Dense(1))\n",
        "    model.compile(Adam(lr = 0.001), loss = 'mse')\n",
        "    return model\n",
        "    \n",
        "model = nvidia_model()\n",
        "print(model.summary())"
      ],
      "execution_count": 58,
      "outputs": [
        {
          "output_type": "stream",
          "text": [
            "Model: \"sequential_4\"\n",
            "_________________________________________________________________\n",
            "Layer (type)                 Output Shape              Param #   \n",
            "=================================================================\n",
            "conv2d_16 (Conv2D)           (None, 31, 98, 24)        1824      \n",
            "_________________________________________________________________\n",
            "conv2d_17 (Conv2D)           (None, 14, 47, 36)        21636     \n",
            "_________________________________________________________________\n",
            "conv2d_18 (Conv2D)           (None, 5, 22, 48)         43248     \n",
            "_________________________________________________________________\n",
            "conv2d_19 (Conv2D)           (None, 3, 20, 64)         27712     \n",
            "_________________________________________________________________\n",
            "conv2d_20 (Conv2D)           (None, 1, 18, 64)         36928     \n",
            "_________________________________________________________________\n",
            "dropout_7 (Dropout)          (None, 1, 18, 64)         0         \n",
            "_________________________________________________________________\n",
            "flatten_4 (Flatten)          (None, 1152)              0         \n",
            "_________________________________________________________________\n",
            "dense_13 (Dense)             (None, 100)               115300    \n",
            "_________________________________________________________________\n",
            "dropout_8 (Dropout)          (None, 100)               0         \n",
            "_________________________________________________________________\n",
            "dense_14 (Dense)             (None, 50)                5050      \n",
            "_________________________________________________________________\n",
            "dropout_9 (Dropout)          (None, 50)                0         \n",
            "_________________________________________________________________\n",
            "dense_15 (Dense)             (None, 10)                510       \n",
            "_________________________________________________________________\n",
            "dropout_10 (Dropout)         (None, 10)                0         \n",
            "_________________________________________________________________\n",
            "dense_16 (Dense)             (None, 1)                 11        \n",
            "=================================================================\n",
            "Total params: 252,219\n",
            "Trainable params: 252,219\n",
            "Non-trainable params: 0\n",
            "_________________________________________________________________\n",
            "None\n"
          ],
          "name": "stdout"
        },
        {
          "output_type": "stream",
          "text": [
            "/usr/local/lib/python3.6/dist-packages/ipykernel_launcher.py:3: UserWarning: Update your `Conv2D` call to the Keras 2 API: `Conv2D(24, (5, 5), input_shape=(66, 200, ..., activation=\"elu\", strides=(2, 2))`\n",
            "  This is separate from the ipykernel package so we can avoid doing imports until\n",
            "/usr/local/lib/python3.6/dist-packages/ipykernel_launcher.py:4: UserWarning: Update your `Conv2D` call to the Keras 2 API: `Conv2D(36, (5, 5), activation=\"elu\", strides=(2, 2))`\n",
            "  after removing the cwd from sys.path.\n",
            "/usr/local/lib/python3.6/dist-packages/ipykernel_launcher.py:5: UserWarning: Update your `Conv2D` call to the Keras 2 API: `Conv2D(48, (5, 5), activation=\"elu\", strides=(2, 2))`\n",
            "  \"\"\"\n",
            "/usr/local/lib/python3.6/dist-packages/ipykernel_launcher.py:6: UserWarning: Update your `Conv2D` call to the Keras 2 API: `Conv2D(64, (3, 3), activation=\"elu\")`\n",
            "  \n",
            "/usr/local/lib/python3.6/dist-packages/ipykernel_launcher.py:7: UserWarning: Update your `Conv2D` call to the Keras 2 API: `Conv2D(64, (3, 3), activation=\"elu\")`\n",
            "  import sys\n"
          ],
          "name": "stderr"
        }
      ]
    },
    {
      "cell_type": "code",
      "metadata": {
        "id": "T9asPcr7UJKn",
        "colab_type": "code",
        "colab": {
          "base_uri": "https://localhost:8080/",
          "height": 1000
        },
        "outputId": "07c46c95-ad44-47cd-ff85-3a940d514c3b"
      },
      "source": [
        "h = model.fit(X_train, y_train, epochs = 30, validation_data = (X_val, y_val), batch_size = 100, verbose = 1, shuffle = 1)\n"
      ],
      "execution_count": 59,
      "outputs": [
        {
          "output_type": "stream",
          "text": [
            "Train on 1099 samples, validate on 275 samples\n",
            "Epoch 1/30\n",
            "1099/1099 [==============================] - 1s 1ms/step - loss: 0.4619 - val_loss: 0.1053\n",
            "Epoch 2/30\n",
            "1099/1099 [==============================] - 0s 390us/step - loss: 0.1948 - val_loss: 0.1116\n",
            "Epoch 3/30\n",
            "1099/1099 [==============================] - 0s 369us/step - loss: 0.1510 - val_loss: 0.0992\n",
            "Epoch 4/30\n",
            "1099/1099 [==============================] - 0s 380us/step - loss: 0.1103 - val_loss: 0.0966\n",
            "Epoch 5/30\n",
            "1099/1099 [==============================] - 0s 355us/step - loss: 0.0980 - val_loss: 0.0925\n",
            "Epoch 6/30\n",
            "1099/1099 [==============================] - 0s 352us/step - loss: 0.0960 - val_loss: 0.0927\n",
            "Epoch 7/30\n",
            "1099/1099 [==============================] - 0s 343us/step - loss: 0.0922 - val_loss: 0.0893\n",
            "Epoch 8/30\n",
            "1099/1099 [==============================] - 0s 350us/step - loss: 0.0905 - val_loss: 0.0886\n",
            "Epoch 9/30\n",
            "1099/1099 [==============================] - 0s 343us/step - loss: 0.0876 - val_loss: 0.0867\n",
            "Epoch 10/30\n",
            "1099/1099 [==============================] - 0s 337us/step - loss: 0.0858 - val_loss: 0.0856\n",
            "Epoch 11/30\n",
            "1099/1099 [==============================] - 0s 344us/step - loss: 0.0825 - val_loss: 0.0834\n",
            "Epoch 12/30\n",
            "1099/1099 [==============================] - 0s 341us/step - loss: 0.0813 - val_loss: 0.0827\n",
            "Epoch 13/30\n",
            "1099/1099 [==============================] - 0s 341us/step - loss: 0.0823 - val_loss: 0.0844\n",
            "Epoch 14/30\n",
            "1099/1099 [==============================] - 0s 350us/step - loss: 0.0769 - val_loss: 0.0805\n",
            "Epoch 15/30\n",
            "1099/1099 [==============================] - 0s 343us/step - loss: 0.0778 - val_loss: 0.0788\n",
            "Epoch 16/30\n",
            "1099/1099 [==============================] - 0s 344us/step - loss: 0.0762 - val_loss: 0.0804\n",
            "Epoch 17/30\n",
            "1099/1099 [==============================] - 0s 342us/step - loss: 0.0762 - val_loss: 0.0789\n",
            "Epoch 18/30\n",
            "1099/1099 [==============================] - 0s 342us/step - loss: 0.0765 - val_loss: 0.0817\n",
            "Epoch 19/30\n",
            "1099/1099 [==============================] - 0s 347us/step - loss: 0.0716 - val_loss: 0.0768\n",
            "Epoch 20/30\n",
            "1099/1099 [==============================] - 0s 348us/step - loss: 0.0720 - val_loss: 0.0773\n",
            "Epoch 21/30\n",
            "1099/1099 [==============================] - 0s 346us/step - loss: 0.0668 - val_loss: 0.0762\n",
            "Epoch 22/30\n",
            "1099/1099 [==============================] - 0s 349us/step - loss: 0.0706 - val_loss: 0.0756\n",
            "Epoch 23/30\n",
            "1099/1099 [==============================] - 0s 343us/step - loss: 0.0716 - val_loss: 0.0742\n",
            "Epoch 24/30\n",
            "1099/1099 [==============================] - 0s 341us/step - loss: 0.0657 - val_loss: 0.0743\n",
            "Epoch 25/30\n",
            "1099/1099 [==============================] - 0s 344us/step - loss: 0.0617 - val_loss: 0.0770\n",
            "Epoch 26/30\n",
            "1099/1099 [==============================] - 0s 341us/step - loss: 0.0642 - val_loss: 0.0737\n",
            "Epoch 27/30\n",
            "1099/1099 [==============================] - 0s 346us/step - loss: 0.0644 - val_loss: 0.0762\n",
            "Epoch 28/30\n",
            "1099/1099 [==============================] - 0s 344us/step - loss: 0.0604 - val_loss: 0.0734\n",
            "Epoch 29/30\n",
            "1099/1099 [==============================] - 0s 345us/step - loss: 0.0634 - val_loss: 0.0764\n",
            "Epoch 30/30\n",
            "1099/1099 [==============================] - 0s 349us/step - loss: 0.0601 - val_loss: 0.0765\n"
          ],
          "name": "stdout"
        }
      ]
    },
    {
      "cell_type": "code",
      "metadata": {
        "id": "OlMfzKPyd7Sy",
        "colab_type": "code",
        "colab": {
          "base_uri": "https://localhost:8080/",
          "height": 312
        },
        "outputId": "de9602e2-b559-4d3d-ab74-37e1c81fe7a5"
      },
      "source": [
        "plt.plot(h.history['loss'])\n",
        "plt.plot(h.history['val_loss'])\n",
        "plt.legend(['training', 'validation'])\n",
        "plt.title('Loss')\n",
        "plt.xlabel('Epoch')"
      ],
      "execution_count": 60,
      "outputs": [
        {
          "output_type": "execute_result",
          "data": {
            "text/plain": [
              "Text(0.5, 0, 'Epoch')"
            ]
          },
          "metadata": {
            "tags": []
          },
          "execution_count": 60
        },
        {
          "output_type": "display_data",
          "data": {
            "image/png": "[encoded data removed]",
            "text/plain": [
              "<Figure size 432x288 with 1 Axes>"
            ]
          },
          "metadata": {
            "tags": []
          }
        }
      ]
    },
    {
      "cell_type": "code",
      "metadata": {
        "id": "WYqvoAsbjO0p",
        "colab_type": "code",
        "colab": {}
      },
      "source": [
        "model.save('model.h5')"
      ],
      "execution_count": 0,
      "outputs": []
    },
    {
      "cell_type": "code",
      "metadata": {
        "id": "2lc4qGqKjUcE",
        "colab_type": "code",
        "colab": {}
      },
      "source": [
        "from google.colab import files\n",
        "files.download('model.h5')"
      ],
      "execution_count": 0,
      "outputs": []
    }
  ]
}