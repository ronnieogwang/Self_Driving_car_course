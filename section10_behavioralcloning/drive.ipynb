{
  "nbformat": 4,
  "nbformat_minor": 0,
  "metadata": {
    "colab": {
      "name": "drive.ipynb",
      "provenance": [],
      "authorship_tag": "ABX9TyN6Dfc4xqj6warHU0GAgUuW",
      "include_colab_link": true
    },
    "kernelspec": {
      "name": "python3",
      "display_name": "Python 3"
    }
  },
  "cells": [
    {
      "cell_type": "markdown",
      "metadata": {
        "id": "view-in-github",
        "colab_type": "text"
      },
      "source": [
        "<a href=\"https://colab.research.google.com/github/ronnieogwang/Self_Driving_car_course/blob/master/section10_behavioralcloning/drive.ipynb\" target=\"_parent\"><img src=\"https://colab.research.google.com/assets/colab-badge.svg\" alt=\"Open In Colab\"/></a>"
      ]
    },
    {
      "cell_type": "code",
      "metadata": {
        "id": "KOtGT6dhz_WR",
        "colab_type": "code",
        "colab": {}
      },
      "source": [
        "from flask import Flask\n",
        "import socketio\n",
        "import eventlet\n",
        "from keras.models import load_model\n",
        "sio = socketio.Server()\n",
        "import numpy as np\n",
        "import base64\n",
        "from io import BytesIO\n",
        "from PIL import Image\n",
        "import cv2\n"
      ],
      "execution_count": 0,
      "outputs": []
    },
    {
      "cell_type": "code",
      "metadata": {
        "id": "9SciH5mh0J_8",
        "colab_type": "code",
        "colab": {}
      },
      "source": [
        "app = Flask(__name__)\n",
        "\n",
        "speed_limit = 10\n",
        "\n",
        "def img_preprocess(img):\n",
        "    img = cv2.cvtColor(img, cv2.COLOR_RGB2YUV)\n",
        "    img = cv2.GaussianBlur(img,  (3, 3), 0)\n",
        "    img = cv2.resize(img, (200, 66))\n",
        "    img = img/255\n",
        "    return img"
      ],
      "execution_count": 0,
      "outputs": []
    },
    {
      "cell_type": "code",
      "metadata": {
        "id": "0UTS98z10PTE",
        "colab_type": "code",
        "colab": {}
      },
      "source": [
        "#collect real time data from simulator\n",
        "@sio.on('telemetry')\n",
        "def telemetry(sid, data):\n",
        "\tspeed = float(data['speed'])\n",
        "\timage = Image.open(BytesIO(base64.b64decode(data['image'])))\n",
        "\timage = np.asarray(image)  #convert image to array\n",
        "\timage = img_preprocess(image)\n",
        "\timage = np.array([image])  #convert image to 4D\n",
        "\tsteering_angle = float(model.predict(image))\n",
        "\tthrottle = 1.0 - speed/speed_limit\n",
        "\tprint('{} {} {}'.format(steering_angle, throttle, speed))\n",
        "\tsend_control(steering_angle, throttle)\n",
        "\n"
      ],
      "execution_count": 0,
      "outputs": []
    },
    {
      "cell_type": "code",
      "metadata": {
        "id": "71G_dp3P0TW-",
        "colab_type": "code",
        "colab": {}
      },
      "source": [
        "#connect to simulator\n",
        "@sio.on('connect')\n",
        "def connect(sid, myenviron):\n",
        "    print('connected')\n",
        "    send_control(2,0)\n"
      ],
      "execution_count": 0,
      "outputs": []
    },
    {
      "cell_type": "code",
      "metadata": {
        "id": "kCyGwcN70WvW",
        "colab_type": "code",
        "colab": {}
      },
      "source": [
        "#send controls to the car\n",
        "def send_control(steering_angle, throttle):\n",
        "    sio.emit('steer', data = {\n",
        "        'steering_angle': steering_angle.__str__(),\n",
        "        'throttle': throttle.__str__()\n",
        "        })\n",
        "    "
      ],
      "execution_count": 0,
      "outputs": []
    },
    {
      "cell_type": "code",
      "metadata": {
        "id": "qPXchu1_0Zqg",
        "colab_type": "code",
        "colab": {}
      },
      "source": [
        "if __name__ == '__main__':\n",
        "    model = load_model('model.h5')\n",
        "    app = socketio.Middleware(sio, app)\n",
        "    eventlet.wsgi.server(eventlet.listen(('',4567)),app)\n"
      ],
      "execution_count": 0,
      "outputs": []
    }
  ]
}